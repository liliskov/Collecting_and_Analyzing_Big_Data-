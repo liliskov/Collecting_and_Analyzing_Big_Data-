{
 "cells": [
  {
   "cell_type": "markdown",
   "metadata": {},
   "source": [
    "# Web Scraping The Times UK (without API)"
   ]
  },
  {
   "cell_type": "markdown",
   "metadata": {},
   "source": [
    "## Putting search results from multiple search pages from the same site in one dataframe"
   ]
  },
  {
   "cell_type": "code",
   "execution_count": 1,
   "metadata": {
    "ExecuteTime": {
     "end_time": "2021-06-11T20:48:44.933365Z",
     "start_time": "2021-06-11T20:48:43.340741Z"
    }
   },
   "outputs": [
    {
     "name": "stderr",
     "output_type": "stream",
     "text": [
      "/opt/anaconda3/lib/python3.8/site-packages/requests/__init__.py:89: RequestsDependencyWarning: urllib3 (1.26.4) or chardet (4.0.0) doesn't match a supported version!\n",
      "  warnings.warn(\"urllib3 ({}) or chardet ({}) doesn't match a supported \"\n"
     ]
    }
   ],
   "source": [
    "# Libraries\n",
    "\n",
    "from requests_html import HTMLSession\n",
    "import pandas as pd\n",
    "\n",
    "pd.set_option(\"display.max_columns\",101)"
   ]
  },
  {
   "cell_type": "code",
   "execution_count": 2,
   "metadata": {
    "ExecuteTime": {
     "end_time": "2021-06-11T20:48:44.944392Z",
     "start_time": "2021-06-11T20:48:44.935973Z"
    }
   },
   "outputs": [],
   "source": [
    "# Collecting links to all articles based on keyword and search page number from the Spectator\n",
    "\n",
    "def news_articles_from_given_page (keyword, page_number):\n",
    "    '''Collects the links of the search results from a given search page for a given term'''\n",
    "    ht_url = 'https://www.thetimes.co.uk/search?p=' + str(page_number) + '&q=' + keyword + '&source=search-page'\n",
    "    print(ht_url)\n",
    "    session = HTMLSession()\n",
    "    r = session.get(ht_url)\n",
    "    articles_url =[] # empty list to collect the links into\n",
    "    for i in r.html.find('h2'):\n",
    "        for link in i.links:\n",
    "            link = 'https://www.thetimes.co.uk' + link\n",
    "            articles_url.append(link)\n",
    "    return articles_url"
   ]
  },
  {
   "cell_type": "code",
   "execution_count": 3,
   "metadata": {
    "ExecuteTime": {
     "end_time": "2021-06-11T20:48:46.380115Z",
     "start_time": "2021-06-11T20:48:45.640988Z"
    }
   },
   "outputs": [
    {
     "name": "stdout",
     "output_type": "stream",
     "text": [
      "https://www.thetimes.co.uk/search?p=1&q=Trump&source=search-page\n"
     ]
    },
    {
     "data": {
      "text/plain": [
       "['https://www.thetimes.co.uk/article/trump-ramps-up-drama-as-he-picks-his-supreme-judge-s3vlpztbm',\n",
       " 'https://www.thetimes.co.uk/article/opponents-ousted-and-mocked-as-trump-hits-back-x60fbsl9n',\n",
       " 'https://www.thetimes.co.uk/article/we-had-bigger-crowds-than-obama-insists-trump-team-hz7mcmgvw',\n",
       " 'https://www.thetimes.co.uk/article/bmw-shares-go-into-reverse-after-trump-tax-threat-9jzgcfz82',\n",
       " 'https://www.thetimes.co.uk/article/trump-legacy-is-pile-of-unwanted-history-j76p5ctdp',\n",
       " 'https://www.thetimes.co.uk/article/far-right-puts-boot-into-trump-boycott-f2gvvd3bz',\n",
       " 'https://www.thetimes.co.uk/article/trump-force-one-is-not-an-option-say-secret-service-kfnx376xk',\n",
       " 'https://www.thetimes.co.uk/article/trump-gears-up-for-new-war-on-terror-led-by-maverick-general-68zhfxxxs',\n",
       " 'https://www.thetimes.co.uk/article/trump-gg8kl7glf',\n",
       " 'https://www.thetimes.co.uk/article/donald-trump-turns-fire-on-anthony-fauci-in-return-to-campaign-trail-whf3978nc']"
      ]
     },
     "execution_count": 3,
     "metadata": {},
     "output_type": "execute_result"
    }
   ],
   "source": [
    "# Test\n",
    "\n",
    "news_articles_from_given_page('Trump',1)"
   ]
  },
  {
   "cell_type": "code",
   "execution_count": 4,
   "metadata": {
    "ExecuteTime": {
     "end_time": "2021-06-11T20:50:26.242743Z",
     "start_time": "2021-06-11T20:48:47.467155Z"
    }
   },
   "outputs": [
    {
     "name": "stdout",
     "output_type": "stream",
     "text": [
      "https://www.thetimes.co.uk/search?p=1&q=Trump&source=search-page\n",
      "https://www.thetimes.co.uk/search?p=2&q=Trump&source=search-page\n",
      "https://www.thetimes.co.uk/search?p=3&q=Trump&source=search-page\n",
      "https://www.thetimes.co.uk/search?p=4&q=Trump&source=search-page\n",
      "https://www.thetimes.co.uk/search?p=5&q=Trump&source=search-page\n",
      "https://www.thetimes.co.uk/search?p=6&q=Trump&source=search-page\n",
      "https://www.thetimes.co.uk/search?p=7&q=Trump&source=search-page\n",
      "https://www.thetimes.co.uk/search?p=8&q=Trump&source=search-page\n",
      "https://www.thetimes.co.uk/search?p=9&q=Trump&source=search-page\n",
      "https://www.thetimes.co.uk/search?p=10&q=Trump&source=search-page\n",
      "https://www.thetimes.co.uk/search?p=11&q=Trump&source=search-page\n",
      "https://www.thetimes.co.uk/search?p=12&q=Trump&source=search-page\n",
      "https://www.thetimes.co.uk/search?p=13&q=Trump&source=search-page\n",
      "https://www.thetimes.co.uk/search?p=14&q=Trump&source=search-page\n",
      "https://www.thetimes.co.uk/search?p=15&q=Trump&source=search-page\n",
      "https://www.thetimes.co.uk/search?p=16&q=Trump&source=search-page\n",
      "https://www.thetimes.co.uk/search?p=17&q=Trump&source=search-page\n",
      "https://www.thetimes.co.uk/search?p=18&q=Trump&source=search-page\n",
      "https://www.thetimes.co.uk/search?p=19&q=Trump&source=search-page\n",
      "https://www.thetimes.co.uk/search?p=20&q=Trump&source=search-page\n",
      "https://www.thetimes.co.uk/search?p=21&q=Trump&source=search-page\n",
      "https://www.thetimes.co.uk/search?p=22&q=Trump&source=search-page\n",
      "https://www.thetimes.co.uk/search?p=23&q=Trump&source=search-page\n",
      "https://www.thetimes.co.uk/search?p=24&q=Trump&source=search-page\n",
      "https://www.thetimes.co.uk/search?p=25&q=Trump&source=search-page\n",
      "https://www.thetimes.co.uk/search?p=26&q=Trump&source=search-page\n",
      "https://www.thetimes.co.uk/search?p=27&q=Trump&source=search-page\n",
      "https://www.thetimes.co.uk/search?p=28&q=Trump&source=search-page\n",
      "https://www.thetimes.co.uk/search?p=29&q=Trump&source=search-page\n",
      "https://www.thetimes.co.uk/search?p=30&q=Trump&source=search-page\n",
      "https://www.thetimes.co.uk/search?p=31&q=Trump&source=search-page\n",
      "https://www.thetimes.co.uk/search?p=32&q=Trump&source=search-page\n",
      "https://www.thetimes.co.uk/search?p=33&q=Trump&source=search-page\n",
      "https://www.thetimes.co.uk/search?p=34&q=Trump&source=search-page\n",
      "https://www.thetimes.co.uk/search?p=35&q=Trump&source=search-page\n",
      "https://www.thetimes.co.uk/search?p=36&q=Trump&source=search-page\n",
      "https://www.thetimes.co.uk/search?p=37&q=Trump&source=search-page\n",
      "https://www.thetimes.co.uk/search?p=38&q=Trump&source=search-page\n",
      "https://www.thetimes.co.uk/search?p=39&q=Trump&source=search-page\n",
      "https://www.thetimes.co.uk/search?p=40&q=Trump&source=search-page\n",
      "https://www.thetimes.co.uk/search?p=41&q=Trump&source=search-page\n",
      "https://www.thetimes.co.uk/search?p=42&q=Trump&source=search-page\n",
      "https://www.thetimes.co.uk/search?p=43&q=Trump&source=search-page\n",
      "https://www.thetimes.co.uk/search?p=44&q=Trump&source=search-page\n",
      "https://www.thetimes.co.uk/search?p=45&q=Trump&source=search-page\n",
      "https://www.thetimes.co.uk/search?p=46&q=Trump&source=search-page\n",
      "https://www.thetimes.co.uk/search?p=47&q=Trump&source=search-page\n",
      "https://www.thetimes.co.uk/search?p=48&q=Trump&source=search-page\n",
      "https://www.thetimes.co.uk/search?p=49&q=Trump&source=search-page\n",
      "https://www.thetimes.co.uk/search?p=50&q=Trump&source=search-page\n",
      "https://www.thetimes.co.uk/search?p=51&q=Trump&source=search-page\n",
      "https://www.thetimes.co.uk/search?p=52&q=Trump&source=search-page\n",
      "https://www.thetimes.co.uk/search?p=53&q=Trump&source=search-page\n",
      "https://www.thetimes.co.uk/search?p=54&q=Trump&source=search-page\n",
      "https://www.thetimes.co.uk/search?p=55&q=Trump&source=search-page\n",
      "https://www.thetimes.co.uk/search?p=56&q=Trump&source=search-page\n",
      "https://www.thetimes.co.uk/search?p=57&q=Trump&source=search-page\n",
      "https://www.thetimes.co.uk/search?p=58&q=Trump&source=search-page\n",
      "https://www.thetimes.co.uk/search?p=59&q=Trump&source=search-page\n"
     ]
    }
   ],
   "source": [
    "# Putting news articles from multiple search pages in a list using the previously defined function\n",
    "\n",
    "article_links=[]\n",
    "\n",
    "for page_number in range(1, 60):\n",
    "    new_links = news_articles_from_given_page('Trump', page_number)\n",
    "    article_links = article_links + new_links"
   ]
  },
  {
   "cell_type": "code",
   "execution_count": 5,
   "metadata": {
    "ExecuteTime": {
     "end_time": "2021-06-11T20:51:52.926906Z",
     "start_time": "2021-06-11T20:51:52.917075Z"
    }
   },
   "outputs": [],
   "source": [
    "# Function that scrapes the first search result (one article among the many search results) from a single search page -> article title, author, date, text... (put in a dictionary, so we can later comply a json file.)\n",
    "# so it opens the first find -> article_links[0]\n",
    "\n",
    "def scrape_the_times_uk(url):\n",
    "    session = HTMLSession()\n",
    "    page=session.get(url)\n",
    "    html = page.html\n",
    "\n",
    "    title = html.find('h1')[0].text\n",
    "    author_location = html.find('span')[13].text\n",
    "    date = html.find('time')[0].text\n",
    "   \n",
    "    text = '' \n",
    "    \n",
    "    for item in html.find('p'):\n",
    "        text = text + ' ' + item.text\n",
    "    \n",
    "    d = {'title' : title,\n",
    "         'author & location' : author_location,\n",
    "         'date' : date,\n",
    "         'text' : text}\n",
    "    \n",
    "    return d"
   ]
  },
  {
   "cell_type": "code",
   "execution_count": 6,
   "metadata": {
    "ExecuteTime": {
     "end_time": "2021-06-11T20:51:54.339444Z",
     "start_time": "2021-06-11T20:51:54.331800Z"
    }
   },
   "outputs": [
    {
     "data": {
      "text/plain": [
       "'https://www.thetimes.co.uk/article/trump-ramps-up-drama-as-he-picks-his-supreme-judge-s3vlpztbm'"
      ]
     },
     "execution_count": 6,
     "metadata": {},
     "output_type": "execute_result"
    }
   ],
   "source": [
    "article_links[0]"
   ]
  },
  {
   "cell_type": "code",
   "execution_count": 7,
   "metadata": {
    "ExecuteTime": {
     "end_time": "2021-06-11T20:51:56.993004Z",
     "start_time": "2021-06-11T20:51:56.067973Z"
    }
   },
   "outputs": [
    {
     "data": {
      "text/plain": [
       "{'title': 'Trump ramps up drama as he picks Supreme Court judge',\n",
       " 'author & location': 'Ben Hoyle, Los Angeles',\n",
       " 'date': 'Friday June 11 2021',\n",
       " 'text': ' President Trump kicked off a fierce battle for control of the Supreme Court last night when he nominated a staunch conservative for the vacancy that Barack Obama had been prevented by Republicans from filling. With characteristic showmanship the former Apprentice host unveiled Neil Gorsuch as his chosen nominee on prime time television, having first ramped up the suspense by summoning both leading candidates for the lifetime appointment to the capital. Moments after he revealed Judge Gorsuch, 49, as his pick, Mr Trump stretched his arms out before a White House audience that included senior political figures, members of the president’s family and the widow of the late Justice Antonin Scalia, whose death created the vacancy. “So, was that a surprise? Was it?” Mr Trump demanded. © Times Newspapers Limited 2021. Registered in England No. 894646. Registered office: 1 London Bridge Street, SE1 9GF.'}"
      ]
     },
     "execution_count": 7,
     "metadata": {},
     "output_type": "execute_result"
    }
   ],
   "source": [
    "scrape_the_times_uk(article_links[0])"
   ]
  },
  {
   "cell_type": "code",
   "execution_count": 15,
   "metadata": {
    "ExecuteTime": {
     "end_time": "2021-06-11T21:15:42.682578Z",
     "start_time": "2021-06-11T21:05:45.833819Z"
    }
   },
   "outputs": [
    {
     "name": "stdout",
     "output_type": "stream",
     "text": [
      "https://www.thetimes.co.uk/article/trump-ramps-up-drama-as-he-picks-his-supreme-judge-s3vlpztbm\n",
      "https://www.thetimes.co.uk/article/opponents-ousted-and-mocked-as-trump-hits-back-x60fbsl9n\n",
      "https://www.thetimes.co.uk/article/we-had-bigger-crowds-than-obama-insists-trump-team-hz7mcmgvw\n",
      "https://www.thetimes.co.uk/article/bmw-shares-go-into-reverse-after-trump-tax-threat-9jzgcfz82\n",
      "https://www.thetimes.co.uk/article/trump-legacy-is-pile-of-unwanted-history-j76p5ctdp\n",
      "https://www.thetimes.co.uk/article/far-right-puts-boot-into-trump-boycott-f2gvvd3bz\n",
      "https://www.thetimes.co.uk/article/trump-force-one-is-not-an-option-say-secret-service-kfnx376xk\n",
      "https://www.thetimes.co.uk/article/trump-gears-up-for-new-war-on-terror-led-by-maverick-general-68zhfxxxs\n",
      "https://www.thetimes.co.uk/article/trump-gg8kl7glf\n",
      "https://www.thetimes.co.uk/article/donald-trump-turns-fire-on-anthony-fauci-in-return-to-campaign-trail-whf3978nc\n",
      "https://www.thetimes.co.uk/article/netanyahu-decries-biggest-fraud-in-history-of-democracy-during-trumpian-outburst-qzr5zkpjc\n",
      "https://www.thetimes.co.uk/article/trumps-covid-catastrophe-what-really-happened-inside-the-white-house-6hmlzvkr0\n",
      "https://www.thetimes.co.uk/article/facebook-blocks-donald-trump-until-2023-capitol-riots-smrtg27p8\n",
      "https://www.thetimes.co.uk/article/bishop-jo-joins-donald-trumps-elite-57757d9qm\n",
      "https://www.thetimes.co.uk/article/from-the-desk-of-donald-j-trump-blog-shuts-down-after-less-than-a-month-xs6jg22r3\n",
      "https://www.thetimes.co.uk/article/ex-trump-campaign-members-target-republicans-who-voted-for-impeachment-x8rfthm9c\n",
      "https://www.thetimes.co.uk/article/campaigners-lament-survival-of-trump-era-oil-project-in-alaska-q8h2gl2gs\n",
      "https://www.thetimes.co.uk/article/bush-nephew-turns-to-trump-for-career-boost-c008ncjr8\n",
      "https://www.thetimes.co.uk/article/grand-jury-convened-in-donald-trump-case-2vtzg96kh\n",
      "https://www.thetimes.co.uk/article/trump-impeachment-witness-sues-pompeo-over-1-8m-in-legal-fees-sf5thfnvh\n",
      "https://www.thetimes.co.uk/article/donald-trump-faces-new-criminal-inquiry-into-his-empire-pnspsnwrm\n",
      "https://www.thetimes.co.uk/article/investigation-into-trump-organisation-now-exploring-possible-criminal-conduct-6nrdtd0dm\n",
      "https://www.thetimes.co.uk/article/murder-suspect-dead-wife-vote-donald-trump-77md8wwp7\n",
      "https://www.thetimes.co.uk/article/josh-glancy-on-the-trump-newsgasm-and-playing-the-journalist-jester-nhbnwjgwk\n",
      "https://www.thetimes.co.uk/article/ex-british-spy-set-honey-traps-for-traitors-in-president-trumps-circle-qs0fhqfkv\n",
      "https://www.thetimes.co.uk/article/sales-belief-trumps-their-ill-discipline-in-vital-win-over-bath-zhm95vnjc\n",
      "https://www.thetimes.co.uk/article/former-british-spy-worked-on-project-veritas-sting-operation-to-oust-trumps-enemies-0qx502l8f\n",
      "https://www.thetimes.co.uk/article/retired-officers-question-mental-and-physical-condition-of-biden-rddswrdqx\n",
      "https://www.thetimes.co.uk/article/palace-complains-over-trump-trickery-wtxtq9s77\n",
      "https://www.thetimes.co.uk/article/donald-trump-hid-escalating-climate-change-crisis-cf56fxv3l\n",
      "https://www.thetimes.co.uk/article/liz-cheney-vows-to-lead-the-republican-anti-trump-resistance-mj39630h6\n",
      "https://www.thetimes.co.uk/article/republicans-topple-liz-cheney-trumps-biggest-critic-hqz22zjg8\n",
      "https://www.thetimes.co.uk/article/trump-supporters-band-together-to-push-liz-cheney-out-of-the-republican-picture-9kgx5t79z\n",
      "https://www.thetimes.co.uk/article/bodyguards-got-a-little-too-close-to-two-trump-women-vwj8j2pfs\n",
      "https://www.thetimes.co.uk/article/trump-the-old-school-blogger-tightens-grip-on-republican-party-75wr0zffn\n",
      "https://www.thetimes.co.uk/article/republicans-tussle-to-win-trumps-crown-b69jdslw9\n",
      "https://www.thetimes.co.uk/article/the-social-media-giant-is-behaving-more-like-a-government-than-a-media-organisation-nlkmm7w2b\n",
      "https://www.thetimes.co.uk/article/i-defer-to-nick-zuckerberg-put-trump-s-facebook-ban-in-clegg-s-hands-ckl90k8q9\n",
      "https://www.thetimes.co.uk/article/donald-trumps-facebook-ban-is-extended-by-another-six-months-0gf6p09wm\n",
      "https://www.thetimes.co.uk/article/donald-trumps-facebook-ban-upheld-by-board-for-now-pkt2kbfnc\n",
      "https://www.thetimes.co.uk/article/trump-launches-website-ahead-of-facebook-ban-ruling-g58cvmn6h\n",
      "https://www.thetimes.co.uk/article/anti-lockdown-trumpista-isabel-diaz-ayuso-poised-for-victory-in-madrid-election-822gf7spl\n",
      "https://www.thetimes.co.uk/article/republican-chiefs-ready-to-oust-donald-trump-critic-liz-cheney-2b2grb0tw\n",
      "https://www.thetimes.co.uk/article/donald-trump-tees-up-a-second-run-as-president-xsff03nsc\n",
      "https://www.thetimes.co.uk/article/lift-all-trumps-sanctions-to-revive-nuclear-deal-iran-demands-6q2qzsvj0\n",
      "https://www.thetimes.co.uk/article/hold-the-cake-just-send-cash-for-melania-trumps-birthday-rbb9g5n5l\n",
      "https://www.thetimes.co.uk/article/pressure-is-all-on-judd-trump-says-shaun-murphy-9lcdtfn0j\n",
      "https://www.thetimes.co.uk/article/kevin-pringle-unity-does-not-trump-a-healthy-democracy-kl38jxmt0\n",
      "https://www.thetimes.co.uk/article/jd-vance-republicans-hillbilly-hopeful-is-straying-closer-to-trumps-path-sgmlzvdx5\n",
      "https://www.thetimes.co.uk/article/is-facebook-about-to-let-trump-return-hdzt85ndz\n",
      "https://www.thetimes.co.uk/article/democrats-force-biden-to-ditch-refugee-cap-inherited-from-trump-m5btvjw2r\n",
      "https://www.thetimes.co.uk/article/old-donald-trump-gang-getting-back-together-nm0qr7vxc\n",
      "https://www.thetimes.co.uk/article/donald-trump-attacks-republicans-mike-pence-and-mitch-mcconnell-to-cast-himself-as-kingmaker-m0k7gtnrd\n",
      "https://www.thetimes.co.uk/article/matt-gaetz-congressman-in-sex-case-asked-trump-for-pardon-mwj6qx9qk\n",
      "https://www.thetimes.co.uk/article/donald-trump-s-new-desk-same-as-old-desk-jx6crggms\n",
      "https://www.thetimes.co.uk/article/georgia-voting-laws-trump-republicans-urge-boycott-of-woke-companies-7zzhjkhn2\n",
      "https://www.thetimes.co.uk/article/caitlin-morans-celebrity-watch-donald-trump-is-a-full-time-umarell-869tvv8gh\n",
      "https://www.thetimes.co.uk/article/capitol-police-officers-sue-donald-trump-for-inciting-deadly-january-6-riot-nbb9kwwg6\n",
      "https://www.thetimes.co.uk/article/home-comforts-set-to-trump-office-working-h0l7f7cp7\n",
      "https://www.thetimes.co.uk/article/joe-biden-nominates-diverse-judges-in-riposte-to-trump-years-lz9hjgbf2\n",
      "https://www.thetimes.co.uk/article/us-voting-reforms-in-the-aftermath-of-trump-raise-spectre-of-segregated-past-9zkq32s5w\n",
      "https://www.thetimes.co.uk/article/donald-trump-fires-salvo-at-anthony-fauci-and-deborah-birx-hl3332rxk\n",
      "https://www.thetimes.co.uk/article/watch-the-skies-even-scientists-are-waiting-for-trumps-ufo-report-to-land-5mkz9z3n2\n",
      "https://www.thetimes.co.uk/article/no-one-should-have-believed-trump-attorneys-vote-fraud-claims-say-her-lawyers-bkhlg866q\n",
      "https://www.thetimes.co.uk/article/tweetless-trump-says-his-own-social-media-platform-is-imminent-and-he-still-claims-he-won-the-election-6zp39s8b9\n",
      "https://www.thetimes.co.uk/article/trump-can-learn-so-much-from-matt-hancock-ghsrnf8gp\n",
      "https://www.thetimes.co.uk/article/donald-trump-plots-a-social-media-comeback-with-his-own-platform-m5qklz608\n",
      "https://www.thetimes.co.uk/article/eddie-jones-is-the-donald-trump-of-rugby-and-this-out-of-control-ego-show-has-england-in-terminal-decline-gm37wm68m\n",
      "https://www.thetimes.co.uk/article/donald-trump-lost-700m-in-office-report-says-v3z5hqlgm\n",
      "https://www.thetimes.co.uk/article/donald-trump-says-hes-not-a-fan-of-meghan-and-delays-decision-on-running-for-president-svrlnkwh6\n",
      "https://www.thetimes.co.uk/article/donald-trump-says-media-always-against-me-after-washington-post-corrects-misquote-9nbcxbkqf\n",
      "https://www.thetimes.co.uk/article/trump-speech-incited-capitol-riot-says-christopher-miller-former-acting-defence-secretary-hlfzzwz6v\n",
      "https://www.thetimes.co.uk/article/woman-preacher-quits-church-trumpism-support-sexual-abuse-7cjh0bkm2\n",
      "https://www.thetimes.co.uk/article/norma-percys-bbc-series-trump-takes-on-the-world-x2wczqgcw\n",
      "https://www.thetimes.co.uk/article/donald-trump-told-georgia-election-investigator-she-would-be-praised-if-result-was-overturned-fdv7gvkjg\n",
      "https://www.thetimes.co.uk/article/the-times-diary-cabinet-extra-michael-ellis-blows-trumpet-9mxdngl00\n",
      "https://www.thetimes.co.uk/article/donald-trump-returns-to-new-york-as-investigations-into-his-finances-mount-l6q32qv6n\n",
      "https://www.thetimes.co.uk/article/trump-warns-republicans-to-stop-cashing-in-on-his-brand-wdg78d8rp\n"
     ]
    },
    {
     "name": "stdout",
     "output_type": "stream",
     "text": [
      "https://www.thetimes.co.uk/article/donald-trump-puts-mar-a-lago-mansion-on-sale-for-49m-vx667dvdb\n",
      "https://www.thetimes.co.uk/article/capitol-on-high-alert-for-qanon-second-coming-of-trump-conspiracy-fxr8fp9gz\n",
      "https://www.thetimes.co.uk/article/david-cameron-rules-out-donald-trump-style-return-to-politics-xrvssd3sm\n",
      "https://www.thetimes.co.uk/article/trumps-failure-to-declare-his-2024-candidacy-outright-suggests-a-man-in-two-minds-jxkhb3xpd\n",
      "https://www.thetimes.co.uk/article/unite-behind-me-to-win-again-in-2024-donald-trump-tells-party-vh3n2s0wf\n",
      "https://www.thetimes.co.uk/article/the-times-view-on-the-republicans-future-trumps-shadow-gkcgtnzg3\n",
      "https://www.thetimes.co.uk/article/bad-news-for-donald-trump-jr-the-right-is-fast-tiring-of-trumps-msm9phdcz\n",
      "https://www.thetimes.co.uk/article/qanon-prophecy-of-donald-trumps-return-puts-congress-on-alert-q72tcst6k\n",
      "https://www.thetimes.co.uk/article/jose-mourinho-has-become-the-donald-trump-of-football-bwvtj99cn\n",
      "https://www.thetimes.co.uk/article/donald-trump-tax-investigation-boosted-by-supreme-court-ruling-8n67csnll\n",
      "https://www.thetimes.co.uk/article/hangers-on-applaud-trump-into-mar-a-lago-as-he-plots-republican-revenge-rn7q6mv5h\n",
      "https://www.thetimes.co.uk/article/donald-trump-opened-back-channel-to-kim-jong-un-pftp2kw9b\n",
      "https://www.thetimes.co.uk/article/joe-biden-considers-easing-trumps-sanctions-on-iran-to-bring-nuclear-deal-back-from-the-brink-p7f03mtk6\n",
      "https://www.thetimes.co.uk/article/former-trump-ally-nikki-haley-claims-she-should-lead-republicans-qwkpxf6sl\n",
      "https://www.thetimes.co.uk/article/donald-trump-teases-another-run-for-the-white-house-in-first-inteview-as-ex-president-w7r09cdr0\n",
      "https://www.thetimes.co.uk/article/donald-trump-overshadows-all-republicans-who-would-succeed-him-in-fresh-opinion-polls-6q90rtb3w\n",
      "https://www.thetimes.co.uk/article/republicans-battle-over-donald-trumps-future-in-party-5csjww29b\n",
      "https://www.thetimes.co.uk/article/donald-trump-acquitted-but-not-unsullied-by-impeachment-trial-c6vmhx0jw\n",
      "https://www.thetimes.co.uk/article/radio-reviews-sideways-the-conversation-after-trump-lpzgbgtk3\n",
      "https://www.thetimes.co.uk/article/the-sunday-times-view-on-the-trump-impeachment-trial-whatever-becomes-of-him-it-s-time-america-moved-on-7cglk2js3\n",
      "https://www.thetimes.co.uk/article/convicting-trump-was-a-long-shot-so-they-tarred-his-tame-senators-instead-5r9w5mfm9\n",
      "https://www.thetimes.co.uk/article/sham-trial-is-just-cancel-culture-claim-trump-lawyers-ffrgdmqhg\n",
      "https://www.thetimes.co.uk/article/split-in-republicans-as-nikki-haley-dumps-donald-trump-9fs6hrkpg\n",
      "https://www.thetimes.co.uk/article/us-capitol-rioters-lawyer-claims-he-was-groomed-by-president-trump-2lkwzc50k\n",
      "https://www.thetimes.co.uk/article/donald-trumps-covid-illness-much-more-severe-than-his-team-let-on-nrm5r7xn6\n",
      "https://www.thetimes.co.uk/article/donald-trump-has-incited-violence-before-democrats-tell-impeachment-trial-hmm88w0ks\n",
      "https://www.thetimes.co.uk/article/donald-trumps-trial-reminds-america-that-democracy-is-personal-gms7nx89n\n",
      "https://www.thetimes.co.uk/article/donald-trumps-trial-is-perilous-for-his-party-z7ksdphlz\n",
      "https://www.thetimes.co.uk/article/impeachment-trial-trump-primed-supporters-for-months-before-capitol-riot-9zll2hzg5\n",
      "https://www.thetimes.co.uk/article/louise-linton-on-husband-steven-mnuchin-and-life-in-trumps-white-house-2lwjw9x3b\n",
      "https://www.thetimes.co.uk/article/trump-has-lost-control-of-impeachment-narrative-g5wt9k0h7\n",
      "https://www.thetimes.co.uk/article/verdict-on-trumps-defence-lawyer-is-already-in-8397q0g2f\n",
      "https://www.thetimes.co.uk/article/donalf-trumps-second-impeachment-trial-begins-in-us-senate-0fs0f2nht\n",
      "https://www.thetimes.co.uk/article/defence-of-democracy-is-a-little-too-late-382fkkdrt\n",
      "https://www.thetimes.co.uk/article/keeping-the-cold-out-why-igloos-trump-snowmen-vcjbh7ww3\n",
      "https://www.thetimes.co.uk/article/defiant-donald-trump-ready-for-impeachment-showdown-in-the-senate-qlbr75jbh\n",
      "https://www.thetimes.co.uk/article/donald-trumps-lawyers-to-claim-democrats-used-fiery-language-too-0m80nv857\n",
      "https://www.thetimes.co.uk/article/adam-kinzinger-my-fight-is-about-telling-the-truth-says-leader-of-the-anti-trump-faction-6cljw7wfm\n",
      "https://www.thetimes.co.uk/article/trumps-last-days-in-office-how-a-president-unravelled-spf6t5xw2\n",
      "https://www.thetimes.co.uk/article/siggi-olafsson-interview-trumps-medicine-man-rides-the-storm-0npcllfz6\n",
      "https://www.thetimes.co.uk/article/how-donald-trumps-impeachment-trial-in-senate-will-work-wsljwdtgk\n",
      "https://www.thetimes.co.uk/article/donald-trump-is-loving-life-after-his-twitter-ban-k7kfkr5xz\n",
      "https://www.thetimes.co.uk/article/most-republicans-would-back-donald-trump-again-in-2024-qqsk7nrcm\n",
      "https://www.thetimes.co.uk/article/donald-trump-refuses-to-testify-in-senate-impeachment-trial-j9lfbl20b\n",
      "https://www.thetimes.co.uk/article/humza-yousaf-rejects-call-to-push-for-trump-cash-investigation-q67w0d0nn\n",
      "https://www.thetimes.co.uk/article/eric-trump-takes-swing-at-scottish-greens-over-golf-course-claims-c8cp2vwlk\n",
      "https://www.thetimes.co.uk/article/white-house-considering-denying-donald-trumps-access-to-intelligence-briefings-hx8nk9gp2\n",
      "https://www.thetimes.co.uk/article/donald-trumps-entire-legal-team-walk-out-days-before-his-impeachment-trial-p27fnh3zg\n",
      "https://www.thetimes.co.uk/article/democrats-are-too-keen-to-nail-trump-for-a-riot-they-should-have-zeroed-in-on-the-coup-brhmq2fv6\n",
      "https://www.thetimes.co.uk/article/melania-trump-her-ex-best-friend-and-a-very-public-fallout-w556snngv\n",
      "https://www.thetimes.co.uk/article/anti-trump-banners-fly-over-former-presidents-mar-a-lago-club-t3kmg5kp7\n",
      "https://www.thetimes.co.uk/article/trump-tightens-grip-on-republicans-as-censure-vote-looms-0s2t9kc3l\n",
      "https://www.thetimes.co.uk/article/donald-trump-expected-a-fee-for-scottish-charity-dinner-qrbd2x6dd\n",
      "https://www.thetimes.co.uk/article/trump-faces-gothams-best-msqhs2hmc\n",
      "https://www.thetimes.co.uk/article/impeachment-trial-donald-trump-summoned-as-republicans-cry-foul-0gf5t0j8x\n",
      "https://www.thetimes.co.uk/article/donald-trumps-impeachment-why-is-he-on-trial-after-the-end-of-his-term-2wxgztt98\n",
      "https://www.thetimes.co.uk/article/the-times-view-on-impeaching-the-former-us-president-the-trump-show-f0dcb8dnf\n",
      "https://www.thetimes.co.uk/article/biden-suspends-some-trump-sanctions-on-houthi-rebels-in-yemen-vvv50s9lt\n",
      "https://www.thetimes.co.uk/article/conviction-hopes-fade-as-donald-trump-faces-senate-trial-hf3qh2s6r\n",
      "https://www.thetimes.co.uk/article/dan-gertler-sanctions-dropped-by-donald-trump-6rj30s72k\n",
      "https://www.thetimes.co.uk/article/ex-trump-aide-sarah-huckabee-sanders-seeks-role-as-state-governor-rgwk0j978\n",
      "https://www.thetimes.co.uk/article/donald-trump-senate-trial-republicans-mitt-romney-pq36m07cb\n",
      "https://www.thetimes.co.uk/article/for-the-media-outrage-machine-donald-trump-will-be-a-hard-habit-to-kick-ckplsczz2\n",
      "https://www.thetimes.co.uk/article/ian-cowie-my-us-tractors-were-a-bet-on-trump-but-they-will-plough-ahead-with-biden-too-vqnk3s273\n",
      "https://www.thetimes.co.uk/article/what-will-melania-trump-do-now-a-smile-replaces-a-scowl-as-she-slinks-into-the-shadows-n3lw8fp76\n",
      "https://www.thetimes.co.uk/article/lord-sedwill-it-s-hard-not-to-feel-relief-that-trump-has-gone-it-was-a-disgraceful-period-x93gqx77q\n",
      "https://www.thetimes.co.uk/article/joe-bidens-flying-start-to-be-derailed-by-trump-trial-j283nldq6\n",
      "https://www.thetimes.co.uk/article/donald-trump-to-face-swift-trial-after-republicans-offer-joe-biden-unity-rx0fg9srh\n",
      "https://www.thetimes.co.uk/article/trump-base-in-meltdown-as-far-right-groups-express-disillusion-over-his-exit-jn3hhf6lg\n",
      "https://www.thetimes.co.uk/article/caitlin-morans-celebrity-watch-farewell-trump-hello-president-biden-3x28mschv\n",
      "https://www.thetimes.co.uk/article/china-imposes-sanctions-on-us-officials-lgtvvgxrp\n",
      "https://www.thetimes.co.uk/article/president-biden-in-bonfire-of-trump-orders-on-his-first-day-in-the-oval-office-bxw38lgdl\n",
      "https://www.thetimes.co.uk/article/lonely-exile-with-only-1bn-debt-for-company-beckons-for-donald-trump-8pnlmwxvd\n",
      "https://www.thetimes.co.uk/article/ill-be-back-trump-warns-as-he-considers-forming-patriot-party-00v5qwcrl\n",
      "https://www.thetimes.co.uk/article/us-nuclear-codes-in-two-states-during-transition-from-trump-to-biden-b7xv6td8l\n"
     ]
    },
    {
     "name": "stdout",
     "output_type": "stream",
     "text": [
      "https://www.thetimes.co.uk/article/donald-trump-to-pardon-steve-bannon-in-final-acts-of-clemency-vlhbvk0vx\n",
      "https://www.thetimes.co.uk/article/after-daddy-what-next-for-ivanka-and-the-trump-kids-hqz56gktf\n",
      "https://www.thetimes.co.uk/article/iran-sanctions-trump-as-it-steps-up-war-games-in-the-gulf-5dj6stmgk\n",
      "https://www.thetimes.co.uk/article/donald-trump-vows-weve-only-just-begun-before-leaving-washington-3mcqlkqzm\n",
      "https://www.thetimes.co.uk/article/national-guardsmens-links-to-pro-trump-militias-dl968hmnx\n",
      "https://www.thetimes.co.uk/article/tories-accused-of-trump-style-tactics-for-comparing-snp-to-nazis-l5s3kn6wk\n",
      "https://www.thetimes.co.uk/article/burning-down-kenosha-trumps-fractured-legacy-wlt3pzqwz\n",
      "https://www.thetimes.co.uk/article/what-did-donald-trump-achieve-his-presidency-in-numbers-5jsl3bkzk\n",
      "https://www.thetimes.co.uk/article/trump-prepares-100-presidential-pardons-for-his-last-day-in-office-lckzfh2r5\n",
      "https://www.thetimes.co.uk/article/trumps-twitter-ban-heralds-end-times-claims-christian-evangelist-andrew-owen-jpf8ppm66\n",
      "https://www.thetimes.co.uk/article/the-times-view-on-the-future-of-the-republican-party-post-trump-z9drv9mg8\n",
      "https://www.thetimes.co.uk/article/trump-administrations-parting-shot-at-huawei-p53z3d80q\n",
      "https://www.thetimes.co.uk/article/from-election-success-to-a-second-impeachment-trumps-four-years-in-pictures-lkmkzhf26\n",
      "https://www.thetimes.co.uk/article/trump-wants-2bn-for-biggest-presidential-library-ever-nwsj7pldl\n",
      "https://www.thetimes.co.uk/article/we-obeyed-trumps-orders-say-capitol-rioters-5bqkhnjpg\n",
      "https://www.thetimes.co.uk/article/joe-biden-plans-blitz-of-executive-orders-to-break-with-trump-era-qrnqnn3sl\n",
      "https://www.thetimes.co.uk/article/donald-trumps-twitter-ban-exposes-the-flaws-in-how-social-media-is-regulated-h2tswgv8l\n",
      "https://www.thetimes.co.uk/article/how-olympic-gold-medallist-klete-keller-ended-up-storming-capitol-with-pro-trump-mob-xrc9c7bgc\n",
      "https://www.thetimes.co.uk/article/joe-scarborough-trump-called-me-a-murderer-12-times-gdfqm8l0m\n",
      "https://www.thetimes.co.uk/article/donald-trumps-alternate-reality-sucks-in-a-large-slice-of-red-america-jhqrrm8mw\n",
      "https://www.thetimes.co.uk/article/era-of-donald-trump-picking-fights-with-athletes-set-to-end-nxjv8hznj\n",
      "https://www.thetimes.co.uk/article/papers-clutched-by-trump-ally-mike-lindell-ignite-fears-of-last-ditch-coup-bxd58msv3\n",
      "https://www.thetimes.co.uk/article/donald-trump-was-inept-but-his-instincts-werent-wrong-x7sp2lr6d\n",
      "https://www.thetimes.co.uk/article/how-much-do-you-know-about-president-donald-trump-and-sport-c0n7t7vvx\n",
      "https://www.thetimes.co.uk/article/let-us-redefine-evangelism-after-the-trump-presidency-crnrlrzs6\n",
      "https://www.thetimes.co.uk/article/trump-will-fly-off-to-florida-as-the-new-president-is-sworn-in-br20w9s9k\n",
      "https://www.thetimes.co.uk/article/biden-urged-to-pardon-trump-and-heal-nation-jf9xc886w\n",
      "https://www.thetimes.co.uk/article/times-letters-pardoning-trump-may-be-better-for-the-us-hj8lkhrbr\n",
      "https://www.thetimes.co.uk/article/hunt-begins-to-identify-trumps-rioters-vhgg7cs6h\n",
      "https://www.thetimes.co.uk/article/trump-s-revolution-hurt-ordinary-americans-j6588l3hs\n",
      "https://www.thetimes.co.uk/article/president-trump-on-brink-of-becoming-first-president-to-be-impeached-twice-p3r0d9wv7\n",
      "https://www.thetimes.co.uk/article/donald-trumps-tweets-turn-focus-to-social-media-responsibility-after-capitol-siege-3pw7jxxzb\n",
      "https://www.thetimes.co.uk/article/the-times-view-on-trump-s-impeachment-final-act-95kskhdrj\n",
      "https://www.thetimes.co.uk/article/liz-cheney-puts-speaker-hopes-on-the-line-to-impeach-president-trump-ngm0sgm6r\n",
      "https://www.thetimes.co.uk/article/far-right-trump-supporters-will-greet-biden-with-armed-show-of-force-qtlbqbrl7\n",
      "https://www.thetimes.co.uk/article/golf-has-nerve-to-shun-donald-trump-while-cosying-up-to-tyrants-c6mmf7dhw\n",
      "https://www.thetimes.co.uk/article/republicans-seek-to-ban-president-trump-from-public-office-vv65nkmr8\n",
      "https://www.thetimes.co.uk/article/trumps-biggest-lender-deutsche-bank-moves-to-sever-ties-vhz7w3dqz\n",
      "https://www.thetimes.co.uk/article/marriage-of-convenience-between-mitch-mcconnell-and-donald-trump-brought-to-devastating-end-zrd78vnc5\n",
      "https://www.thetimes.co.uk/article/trump-s-name-gouged-on-to-endangered-manatee-in-florida-t28q78wj2\n",
      "https://www.thetimes.co.uk/article/trump-claims-speech-before-capitol-riot-was-totally-appropriate-0s085zbjp\n",
      "https://www.thetimes.co.uk/article/trump-national-bedminster-course-stripped-of-us-pga-championship-0csp22ckh\n",
      "https://www.thetimes.co.uk/article/alexei-navalny-and-angela-merkel-hit-out-at-trump-twitter-ban-9p3qmpr6c\n",
      "https://www.thetimes.co.uk/article/times-letters-trump-ban-and-the-regulation-of-social-media-nrfl5lmjb\n",
      "https://www.thetimes.co.uk/article/twitter-falls-after-closing-trump-s-account-sp28vdzjw\n",
      "https://www.thetimes.co.uk/article/donald-trump-in-rough-as-r-a-rules-out-holding-open-at-turnberry-s9mkljxrk\n",
      "https://www.thetimes.co.uk/article/democrats-may-delay-donald-trump-impeachment-to-keep-focus-on-joe-biden-f07n3nncf\n",
      "https://www.thetimes.co.uk/article/donald-trumps-social-media-ban-prompts-questions-over-regulation-h2crzqwrr\n",
      "https://www.thetimes.co.uk/article/pro-trump-social-network-parler-banned-3w9zz8kbl\n",
      "https://www.thetimes.co.uk/article/democrats-planning-to-start-donald-trump-impeachment-tomorrow-9xqb7jtlg\n",
      "https://www.thetimes.co.uk/article/donald-trump-s-social-media-ban-raises-questions-about-regulation-says-matt-hancock-8gftrv20q\n",
      "https://www.thetimes.co.uk/article/trump-has-brought-us-to-the-brink-now-conservatives-must-reclaim-our-cause-d90l393nn\n",
      "https://www.thetimes.co.uk/article/whatever-trump-tweets-free-speech-must-be-allowed-ccgln8gn6\n",
      "https://www.thetimes.co.uk/article/readers-poll-was-donald-trump-to-blame-for-the-capitol-riot-hqcr7cdkz\n",
      "https://www.thetimes.co.uk/article/ban-would-end-up-in-bunker-if-donald-trump-teed-up-scots-golf-visit-s6jvl9lz6\n",
      "https://www.thetimes.co.uk/article/trumps-militias-say-they-are-armed-and-ready-to-defend-their-freedoms-8ht5m0j70\n",
      "https://www.thetimes.co.uk/article/gillian-bowditch-nicola-sturgeons-endgame-will-be-hurt-by-donald-trump-hazard-s0kkq7h7w\n",
      "https://www.thetimes.co.uk/article/tech-giants-draw-the-line-at-last-5339lncn8\n",
      "https://www.thetimes.co.uk/article/only-donald-trumps-golden-girl-ivanka-could-walk-him-back-from-the-edge-0s829vb0f\n",
      "https://www.thetimes.co.uk/article/twitter-bans-trump-permanently-for-glorifying-violence-cmj7djjtk\n",
      "https://www.thetimes.co.uk/article/generals-can-ignore-or-delay-president-trumps-orders-3gkcsdwbd\n",
      "https://www.thetimes.co.uk/article/us-capitol-siege-president-trumps-closest-aides-fear-being-unemployable-mwhlcr6m9\n",
      "https://www.thetimes.co.uk/article/rabble-rouser-trump-must-be-hounded-out-urge-democrats-d3lrq06wq\n",
      "https://www.thetimes.co.uk/article/my-week-donald-trump-0l6l3vmzc\n",
      "https://www.thetimes.co.uk/article/we-enable-the-trumps-everywhere-if-we-avoid-difficult-questions-5f8nc86db\n",
      "https://www.thetimes.co.uk/article/the-times-view-on-the-us-capitol-siege-aftermath-trump-at-bay-sr9vk39sg\n",
      "https://www.thetimes.co.uk/article/donald-trump-wont-attend-joe-biden-inauguration-q23ghktxc\n",
      "https://www.thetimes.co.uk/article/will-donald-trump-be-impeached-and-removed-from-office-xpmrl3gtp\n",
      "https://www.thetimes.co.uk/article/capitol-siege-loyal-mike-pence-breaks-with-donald-trump-diehards-at-last-sfpvwq9kp\n",
      "https://www.thetimes.co.uk/article/president-trump-was-pleased-by-chaos-and-violence-at-capitol-59h8jx88k\n",
      "https://www.thetimes.co.uk/article/trump-must-go-or-we-will-impeach-say-democrats-vbp9s6qz6\n",
      "https://www.thetimes.co.uk/article/donald-trump-scare-for-chinese-tech-giants-76xjnvgdn\n",
      "https://www.thetimes.co.uk/article/the-traitorous-trump-should-be-ousted-now-fgjtrf9pj\n",
      "https://www.thetimes.co.uk/article/trump-vows-to-lead-supporters-on-a-march-to-congress-kw5kxr7kb\n",
      "https://www.thetimes.co.uk/article/trump-banned-from-facebook-and-instagram-for-rest-of-presidency-says-mark-zuckerberg-b738gch2v\n",
      "https://www.thetimes.co.uk/article/johnson-is-not-trumps-transatlantic-twin-cshzqzlj2\n",
      "https://www.thetimes.co.uk/article/in-pictures-trump-supporters-storm-the-us-capitol-q2krx5z82\n",
      "https://www.thetimes.co.uk/article/what-is-the-25th-amendment-and-how-does-it-work-cftdm9ljh\n",
      "https://www.thetimes.co.uk/article/use-25th-amendment-to-kick-trump-out-of-office-mike-pence-urged-dcwht66l6\n"
     ]
    },
    {
     "name": "stdout",
     "output_type": "stream",
     "text": [
      "https://www.thetimes.co.uk/article/president-trumps-assault-on-american-values-will-fail-96nj5mqcb\n",
      "https://www.thetimes.co.uk/article/analysis-was-trump-the-architect-of-republicans-poor-performance-in-georgia-jlgvnrm9h\n",
      "https://www.thetimes.co.uk/article/donald-trump-has-disgraced-tradition-and-that-will-be-his-lasting-legacy-vcxxjc6m2\n",
      "https://www.thetimes.co.uk/article/rioters-attacked-the-hill-after-loyalists-deserted-president-h5zjlz26n\n",
      "https://www.thetimes.co.uk/article/the-times-view-on-trumps-incitement-of-the-assault-on-the-capitol-day-of-infamy-l3gwr8bkh\n",
      "https://www.thetimes.co.uk/article/smashing-glass-and-gunfire-as-mob-shames-us-democracy-7prr83dx9\n",
      "https://www.thetimes.co.uk/article/end-this-seige-biden-urges-trump-gnb8mnqpj\n",
      "https://www.thetimes.co.uk/article/christian-lindberg-2017-review-a-horrified-response-to-donald-trumps-arrival-as-president-x0mq8l7hl\n",
      "https://www.thetimes.co.uk/article/donald-trump-piles-pressure-on-mike-pence-to-reverse-his-election-defeat-to-joe-biden-7grvmc97p\n",
      "https://www.thetimes.co.uk/article/georgias-voters-stream-to-polls-as-trump-vows-to-fight-like-hell-d2zh0khgw\n",
      "https://www.thetimes.co.uk/article/recording-dominates-georgias-crucial-senate-battles-d6pqmd778\n",
      "https://www.thetimes.co.uk/article/fbi-faces-demands-to-investigate-trumps-call-to-turn-election-j7jvjqxl8\n",
      "https://www.thetimes.co.uk/article/tape-that-could-spell-legal-trouble-for-trump-p3bs2k9v3\n",
      "https://www.thetimes.co.uk/article/big-tech-not-trump-is-subverting-democracy-kxvn8qjlt\n",
      "https://www.thetimes.co.uk/article/pense-backs-american-senators-last-ditch-effort-to-defy-biden-gtx79djk3\n",
      "https://www.thetimes.co.uk/article/another-bad-year-for-turnberry-takes-trumps-loss-to-nearly-46m-pzn8fw2xd\n",
      "https://www.thetimes.co.uk/article/president-trump-and-joe-biden-to-campaign-in-georgia-in-final-push-for-crucial-senate-vote-pwlwz9lh2\n",
      "https://www.thetimes.co.uk/article/republicans-weigh-their-options-join-donald-trumps-coup-or-risk-his-vengeance-3xw7qmthk\n",
      "https://www.thetimes.co.uk/article/trumps-huffing-and-puffing-may-blow-the-senate-joe-bidens-way-788rzsvvd\n"
     ]
    },
    {
     "ename": "IndexError",
     "evalue": "list index out of range",
     "output_type": "error",
     "traceback": [
      "\u001b[0;31m---------------------------------------------------------------------------\u001b[0m",
      "\u001b[0;31mIndexError\u001b[0m                                Traceback (most recent call last)",
      "\u001b[0;32m<ipython-input-15-507a49278d4f>\u001b[0m in \u001b[0;36m<module>\u001b[0;34m\u001b[0m\n\u001b[1;32m      6\u001b[0m     \u001b[0;32mif\u001b[0m \u001b[0;34m'thetimes'\u001b[0m \u001b[0;32min\u001b[0m \u001b[0murl\u001b[0m\u001b[0;34m:\u001b[0m\u001b[0;34m\u001b[0m\u001b[0;34m\u001b[0m\u001b[0m\n\u001b[1;32m      7\u001b[0m         \u001b[0mprint\u001b[0m\u001b[0;34m(\u001b[0m\u001b[0murl\u001b[0m\u001b[0;34m)\u001b[0m\u001b[0;34m\u001b[0m\u001b[0;34m\u001b[0m\u001b[0m\n\u001b[0;32m----> 8\u001b[0;31m         \u001b[0mdetails\u001b[0m \u001b[0;34m=\u001b[0m \u001b[0mscrape_the_times_uk\u001b[0m\u001b[0;34m(\u001b[0m\u001b[0murl\u001b[0m\u001b[0;34m)\u001b[0m\u001b[0;34m\u001b[0m\u001b[0;34m\u001b[0m\u001b[0m\n\u001b[0m\u001b[1;32m      9\u001b[0m         \u001b[0mdetails\u001b[0m\u001b[0;34m[\u001b[0m\u001b[0;34m'url'\u001b[0m\u001b[0;34m]\u001b[0m \u001b[0;34m=\u001b[0m \u001b[0murl\u001b[0m\u001b[0;34m\u001b[0m\u001b[0;34m\u001b[0m\u001b[0m\n\u001b[1;32m     10\u001b[0m         \u001b[0marticles\u001b[0m\u001b[0;34m.\u001b[0m\u001b[0mappend\u001b[0m\u001b[0;34m(\u001b[0m\u001b[0mdetails\u001b[0m\u001b[0;34m)\u001b[0m\u001b[0;34m\u001b[0m\u001b[0;34m\u001b[0m\u001b[0m\n",
      "\u001b[0;32m<ipython-input-5-0f63696d1fcb>\u001b[0m in \u001b[0;36mscrape_the_times_uk\u001b[0;34m(url)\u001b[0m\n\u001b[1;32m      8\u001b[0m \u001b[0;34m\u001b[0m\u001b[0m\n\u001b[1;32m      9\u001b[0m     \u001b[0mtitle\u001b[0m \u001b[0;34m=\u001b[0m \u001b[0mhtml\u001b[0m\u001b[0;34m.\u001b[0m\u001b[0mfind\u001b[0m\u001b[0;34m(\u001b[0m\u001b[0;34m'h1'\u001b[0m\u001b[0;34m)\u001b[0m\u001b[0;34m[\u001b[0m\u001b[0;36m0\u001b[0m\u001b[0;34m]\u001b[0m\u001b[0;34m.\u001b[0m\u001b[0mtext\u001b[0m\u001b[0;34m\u001b[0m\u001b[0;34m\u001b[0m\u001b[0m\n\u001b[0;32m---> 10\u001b[0;31m     \u001b[0mauthor_location\u001b[0m \u001b[0;34m=\u001b[0m \u001b[0mhtml\u001b[0m\u001b[0;34m.\u001b[0m\u001b[0mfind\u001b[0m\u001b[0;34m(\u001b[0m\u001b[0;34m'span'\u001b[0m\u001b[0;34m)\u001b[0m\u001b[0;34m[\u001b[0m\u001b[0;36m13\u001b[0m\u001b[0;34m]\u001b[0m\u001b[0;34m.\u001b[0m\u001b[0mtext\u001b[0m\u001b[0;34m\u001b[0m\u001b[0;34m\u001b[0m\u001b[0m\n\u001b[0m\u001b[1;32m     11\u001b[0m     \u001b[0mdate\u001b[0m \u001b[0;34m=\u001b[0m \u001b[0mhtml\u001b[0m\u001b[0;34m.\u001b[0m\u001b[0mfind\u001b[0m\u001b[0;34m(\u001b[0m\u001b[0;34m'time'\u001b[0m\u001b[0;34m)\u001b[0m\u001b[0;34m[\u001b[0m\u001b[0;36m0\u001b[0m\u001b[0;34m]\u001b[0m\u001b[0;34m.\u001b[0m\u001b[0mtext\u001b[0m\u001b[0;34m\u001b[0m\u001b[0;34m\u001b[0m\u001b[0m\n\u001b[1;32m     12\u001b[0m \u001b[0;34m\u001b[0m\u001b[0m\n",
      "\u001b[0;31mIndexError\u001b[0m: list index out of range"
     ]
    }
   ],
   "source": [
    "# Loop to scrape all (a list of X) articles from multiple pages of the actual search results\n",
    "\n",
    "articles =[]\n",
    "\n",
    "for url in article_links:\n",
    "    if 'thetimes' in url:\n",
    "        print(url)\n",
    "        details = scrape_the_times_uk(url)\n",
    "        details['url'] = url\n",
    "        articles.append(details)"
   ]
  },
  {
   "cell_type": "code",
   "execution_count": 16,
   "metadata": {
    "ExecuteTime": {
     "end_time": "2021-06-11T21:16:26.810940Z",
     "start_time": "2021-06-11T21:16:26.793751Z"
    }
   },
   "outputs": [
    {
     "data": {
      "text/html": [
       "<div>\n",
       "<style scoped>\n",
       "    .dataframe tbody tr th:only-of-type {\n",
       "        vertical-align: middle;\n",
       "    }\n",
       "\n",
       "    .dataframe tbody tr th {\n",
       "        vertical-align: top;\n",
       "    }\n",
       "\n",
       "    .dataframe thead th {\n",
       "        text-align: right;\n",
       "    }\n",
       "</style>\n",
       "<table border=\"1\" class=\"dataframe\">\n",
       "  <thead>\n",
       "    <tr style=\"text-align: right;\">\n",
       "      <th></th>\n",
       "      <th>title</th>\n",
       "      <th>author &amp; location</th>\n",
       "      <th>date</th>\n",
       "      <th>text</th>\n",
       "      <th>url</th>\n",
       "    </tr>\n",
       "  </thead>\n",
       "  <tbody>\n",
       "    <tr>\n",
       "      <th>142</th>\n",
       "      <td>What will Melania Trump do now? A smile replac...</td>\n",
       "      <td>The Sunday Times</td>\n",
       "      <td>Friday June 11 2021</td>\n",
       "      <td>A sour mood surely settled over Mar-a-Lago in...</td>\n",
       "      <td>https://www.thetimes.co.uk/article/what-will-m...</td>\n",
       "    </tr>\n",
       "    <tr>\n",
       "      <th>157</th>\n",
       "      <td>National guardsmen’s links to pro-Trump militias</td>\n",
       "      <td>Jacqui Goddard, Miami</td>\n",
       "      <td>Friday June 11 2021</td>\n",
       "      <td>Two members of the US Army National Guard wer...</td>\n",
       "      <td>https://www.thetimes.co.uk/article/national-gu...</td>\n",
       "    </tr>\n",
       "    <tr>\n",
       "      <th>68</th>\n",
       "      <td>Donald Trump lost $700m in office, report says</td>\n",
       "      <td>Charlie Mitchell, Ottawa</td>\n",
       "      <td>Friday June 11 2021</td>\n",
       "      <td>The presidency cost Donald Trump an estimated...</td>\n",
       "      <td>https://www.thetimes.co.uk/article/donald-trum...</td>\n",
       "    </tr>\n",
       "    <tr>\n",
       "      <th>21</th>\n",
       "      <td>Trump Organisation is under criminal investiga...</td>\n",
       "      <td>Alistair Dawber, Washington</td>\n",
       "      <td>Friday June 11 2021</td>\n",
       "      <td>New York state’s attorney-general said last n...</td>\n",
       "      <td>https://www.thetimes.co.uk/article/investigati...</td>\n",
       "    </tr>\n",
       "    <tr>\n",
       "      <th>209</th>\n",
       "      <td>Gillian Bowditch: Nicola Sturgeon’s endgame wi...</td>\n",
       "      <td>The Sunday Times</td>\n",
       "      <td>Friday June 11 2021</td>\n",
       "      <td>Not long after Alex Salmond became first mini...</td>\n",
       "      <td>https://www.thetimes.co.uk/article/gillian-bow...</td>\n",
       "    </tr>\n",
       "  </tbody>\n",
       "</table>\n",
       "</div>"
      ],
      "text/plain": [
       "                                                 title  \\\n",
       "142  What will Melania Trump do now? A smile replac...   \n",
       "157   National guardsmen’s links to pro-Trump militias   \n",
       "68      Donald Trump lost $700m in office, report says   \n",
       "21   Trump Organisation is under criminal investiga...   \n",
       "209  Gillian Bowditch: Nicola Sturgeon’s endgame wi...   \n",
       "\n",
       "               author & location                 date  \\\n",
       "142             The Sunday Times  Friday June 11 2021   \n",
       "157        Jacqui Goddard, Miami  Friday June 11 2021   \n",
       "68      Charlie Mitchell, Ottawa  Friday June 11 2021   \n",
       "21   Alistair Dawber, Washington  Friday June 11 2021   \n",
       "209             The Sunday Times  Friday June 11 2021   \n",
       "\n",
       "                                                  text  \\\n",
       "142   A sour mood surely settled over Mar-a-Lago in...   \n",
       "157   Two members of the US Army National Guard wer...   \n",
       "68    The presidency cost Donald Trump an estimated...   \n",
       "21    New York state’s attorney-general said last n...   \n",
       "209   Not long after Alex Salmond became first mini...   \n",
       "\n",
       "                                                   url  \n",
       "142  https://www.thetimes.co.uk/article/what-will-m...  \n",
       "157  https://www.thetimes.co.uk/article/national-gu...  \n",
       "68   https://www.thetimes.co.uk/article/donald-trum...  \n",
       "21   https://www.thetimes.co.uk/article/investigati...  \n",
       "209  https://www.thetimes.co.uk/article/gillian-bow...  "
      ]
     },
     "execution_count": 16,
     "metadata": {},
     "output_type": "execute_result"
    }
   ],
   "source": [
    "df = pd.DataFrame(articles)\n",
    "df.sample(5)"
   ]
  },
  {
   "cell_type": "code",
   "execution_count": 17,
   "metadata": {
    "ExecuteTime": {
     "end_time": "2021-06-11T21:16:28.486287Z",
     "start_time": "2021-06-11T21:16:28.481670Z"
    }
   },
   "outputs": [],
   "source": [
    "def has_Trump(string):\n",
    "    if 'Trump'in string:\n",
    "        return True\n",
    "    else:\n",
    "        return False"
   ]
  },
  {
   "cell_type": "code",
   "execution_count": 18,
   "metadata": {
    "ExecuteTime": {
     "end_time": "2021-06-11T21:16:29.759627Z",
     "start_time": "2021-06-11T21:16:29.753404Z"
    }
   },
   "outputs": [],
   "source": [
    "df['Trump'] = df['text'].apply(has_Trump)"
   ]
  },
  {
   "cell_type": "code",
   "execution_count": 19,
   "metadata": {
    "ExecuteTime": {
     "end_time": "2021-06-11T21:16:30.521095Z",
     "start_time": "2021-06-11T21:16:30.512628Z"
    }
   },
   "outputs": [
    {
     "data": {
      "text/plain": [
       "219"
      ]
     },
     "execution_count": 19,
     "metadata": {},
     "output_type": "execute_result"
    }
   ],
   "source": [
    "df['Trump'].sum()"
   ]
  },
  {
   "cell_type": "code",
   "execution_count": 20,
   "metadata": {
    "ExecuteTime": {
     "end_time": "2021-06-11T21:16:31.601299Z",
     "start_time": "2021-06-11T21:16:31.595293Z"
    }
   },
   "outputs": [
    {
     "data": {
      "text/plain": [
       "250"
      ]
     },
     "execution_count": 20,
     "metadata": {},
     "output_type": "execute_result"
    }
   ],
   "source": [
    "len(df)"
   ]
  },
  {
   "cell_type": "code",
   "execution_count": 21,
   "metadata": {
    "ExecuteTime": {
     "end_time": "2021-06-11T21:16:33.064199Z",
     "start_time": "2021-06-11T21:16:33.042474Z"
    }
   },
   "outputs": [],
   "source": [
    "df.to_csv(r'/Users/lilivandermeersch/CAB/Class Session 2 - 29:04:2021/output/The_Times_UK_Trump.csv', index = False)"
   ]
  }
 ],
 "metadata": {
  "kernelspec": {
   "display_name": "Python 3",
   "language": "python",
   "name": "python3"
  },
  "language_info": {
   "codemirror_mode": {
    "name": "ipython",
    "version": 3
   },
   "file_extension": ".py",
   "mimetype": "text/x-python",
   "name": "python",
   "nbconvert_exporter": "python",
   "pygments_lexer": "ipython3",
   "version": "3.8.5"
  },
  "toc": {
   "base_numbering": 1,
   "nav_menu": {},
   "number_sections": true,
   "sideBar": true,
   "skip_h1_title": false,
   "title_cell": "Table of Contents",
   "title_sidebar": "Contents",
   "toc_cell": false,
   "toc_position": {},
   "toc_section_display": true,
   "toc_window_display": false
  }
 },
 "nbformat": 4,
 "nbformat_minor": 4
}
