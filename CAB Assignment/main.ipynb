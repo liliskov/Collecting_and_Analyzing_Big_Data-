{
 "cells": [
  {
   "cell_type": "markdown",
   "metadata": {},
   "source": [
    "Main Model\n",
    "\n",
    "A Text Classification Assignment for Collecting and Analyzing Big Data (B-KUL-S0K17A)\n",
    "FAO. Prof. Neal Caren\n",
    "Predicting Movie Genre Based on Plot Summary\n",
    "MSc Statistics and Data Science, Faculty of Science, KU Leuven \n",
    "Academic Year 2020/2021\n",
    "\n",
    "Authors\n",
    "Fazekas, Balazs r0827454\n",
    "Vandermeersch, Lili r0691855\n"
   ]
  },
  {
   "cell_type": "code",
   "execution_count": 1,
   "metadata": {},
   "outputs": [],
   "source": [
    "import numpy as np\n",
    "import pandas as pd\n",
    "from sklearn.model_selection import train_test_split, GridSearchCV\n",
    "from sklearn.feature_extraction.text import CountVectorizer\n",
    "from sklearn.feature_extraction.text import TfidfTransformer\n",
    "from sklearn.metrics import confusion_matrix, classification_report\n",
    "from sklearn.linear_model import SGDClassifier\n",
    "from sklearn.pipeline import Pipeline\n",
    "import seaborn as sns\n",
    "import matplotlib.pyplot as plt\n",
    "import gensim\n",
    "from gensim.utils import simple_preprocess\n",
    "import spacy\n",
    "import re"
   ]
  },
  {
   "cell_type": "markdown",
   "metadata": {},
   "source": [
    "We import the training set, the test set and our stopwords list. Next, we use the n-grams method to create bigrams and trigrams from the expressions in our dataset. Bigrams are two-word expressions which relate to a single piece of meaning. Example: \"fast food\", \"United States\" Trigrams are three-word expressions which relate to a single piece of meaning. Example: \"against all odds\", \"based on results\"\n",
    "\n",
    "By creating n-grams, we can possibly improve our prediction score, as n-grams will try to predict how a certain number of expressions should end. Example: \"United States\" would have a large probability to end with \"of America\".\n"
   ]
  },
  {
   "cell_type": "code",
   "execution_count": 2,
   "metadata": {},
   "outputs": [],
   "source": [
    "train = pd.read_csv(\"C:/Users/Balazs/Documents/train.csv\")\n",
    "testv2 = pd.read_csv(\"C:/Users/Balazs/Documents/test.csv\")\n",
    "stop_word = pd.read_csv(\"C:/Users/Balazs/Documents/stopwords_bn.txt\", header=None)\n",
    "stop_word_list = stop_word[0].tolist()\n",
    "\n",
    "bigram = gensim.models.Phrases(train, min_count=5, threshold=100) \n",
    "trigram = gensim.models.Phrases(bigram[train], threshold=100) \n",
    "\n",
    "bigram_mod = gensim.models.phrases.Phraser(bigram)\n",
    "trigram_mod = gensim.models.phrases.Phraser(trigram)"
   ]
  },
  {
   "cell_type": "code",
   "execution_count": 3,
   "metadata": {},
   "outputs": [],
   "source": [
    "nlp = spacy.load('en_core_web_sm', disable=['parser', 'ner'])"
   ]
  },
  {
   "cell_type": "markdown",
   "metadata": {},
   "source": [
    "We create a function to preprocess and later process the words in our dataset. We get rid of undesired characters such as: \n",
    "\n",
    "-roman numerals \n",
    "\n",
    "-signs such as \", @ \\ ' ? . $ % _ \n",
    "\n",
    "-single characters\n",
    "\n",
    "-new line characters\n",
    "\n",
    "In the processing part, we convert the Plots into a list of lowercase tokens, build n-grams and implement lemmatization\n",
    "With tokenization we create a vocabulary. \n",
    "With lemmatization we turn words with different endings (but still the same stem), into just the stem. Example: \"uses, used, user\" turned into \"use\". \n"
   ]
  },
  {
   "cell_type": "code",
   "execution_count": 4,
   "metadata": {},
   "outputs": [],
   "source": [
    "def preprocessing(sentence):\n",
    "    data = re.sub(r'[^a-zA-Z ]+', '', sentence) \n",
    "\n",
    "    # Delete roman numerals\n",
    "    data = re.sub(r'(?=\\b[MCDXLVI]{1,6}\\b)M{0,4}(?:CM|CD|D?C{0,3})(?:XC|XL|L?X{0,3})(?:IX|IV|V?I{0,3})', '', sentence)\n",
    "\n",
    "    # Group multiple patterns\n",
    "    data = re.sub(r'[,@\\'?\\.$%_]', '', sentence)\n",
    "\n",
    "    # Delete new line characters\n",
    "    data = re.sub(r'\\s+', ' ', sentence)\n",
    "\n",
    "    # Delete Single Characters\n",
    "    data = re.sub(r'\\s+[a-zA-Z]\\s+', ' ', sentence)\n",
    "\n",
    "    # Adding spaces between higher case words\n",
    "    p = re.compile(r'(\\S)([A-Z])')\n",
    "    sentence_processed = re.sub(p, r\"\\1 \\2\", sentence)\n",
    "    \n",
    "    return sentence_processed\n",
    "\n",
    "def process_words(texts, stop_words=stop_word_list, allowed_tags=['NOUN', 'ADJ', 'VERB', 'ADV']):\n",
    "    \n",
    "    \"\"\"Convert a Plot into a list of lowercase tokens, build n-grams and lemmatize\"\"\"\n",
    "    \n",
    "    # Delete stopwords, short tokens, and letter accents \n",
    "    texts = [[word for word in simple_preprocess(str(doc), deacc=True, min_len=3) if word not in stop_words] for doc in texts]\n",
    "    \n",
    "    # implement n-grams: (bi-grams, tri-grams)\n",
    "    texts = [bigram_mod[doc] for doc in texts]\n",
    "    texts = [trigram_mod[bigram_mod[doc]] for doc in texts]\n",
    "    \n",
    "    texts_out = []\n",
    "\n",
    "    # lemmatization and filter for undesired speech tags\n",
    "    for sent in texts:\n",
    "        doc = nlp(\" \".join(sent)) \n",
    "        texts_out.append([token.lemma_ for token in doc if token.pos_ in allowed_tags])\n",
    "    \n",
    "    # delete stopwords when done with lemmatization\n",
    "    texts_out = [[word for word in simple_preprocess(str(doc), deacc=True, min_len=3) if word not in stop_words] for doc in texts_out]    \n",
    "    \n",
    "    return texts_out\n"
   ]
  },
  {
   "cell_type": "code",
   "execution_count": 5,
   "metadata": {},
   "outputs": [],
   "source": [
    "train.Plot = train.Plot.apply(lambda x: preprocessing(x))\n",
    "testv2.Plot = testv2.Plot.apply(lambda x:preprocessing(x))"
   ]
  },
  {
   "cell_type": "code",
   "execution_count": 6,
   "metadata": {},
   "outputs": [],
   "source": [
    "df_Plot = train[['Plot']]\n",
    "train_list = df_Plot['Plot'].values.tolist()\n",
    "df_Plot_testv2 = testv2[['Plot']]\n",
    "testv2_list = df_Plot_testv2['Plot'].values.tolist()"
   ]
  },
  {
   "cell_type": "code",
   "execution_count": 7,
   "metadata": {},
   "outputs": [],
   "source": [
    "train_processed = process_words(texts = train_list)\n"
   ]
  },
  {
   "cell_type": "code",
   "execution_count": 8,
   "metadata": {},
   "outputs": [],
   "source": [
    "testv2_processed = process_words(texts = testv2_list)"
   ]
  },
  {
   "cell_type": "code",
   "execution_count": 9,
   "metadata": {},
   "outputs": [],
   "source": [
    "train_processed = [\" \".join(l) for l in train_processed]\n",
    "testv2_processed = [\" \".join(l) for l in testv2_processed]\n",
    "train.Plot = train_processed\n",
    "testv2.Plot = testv2_processed"
   ]
  },
  {
   "cell_type": "markdown",
   "metadata": {},
   "source": [
    "We split our training set into a training and test set."
   ]
  },
  {
   "cell_type": "code",
   "execution_count": 10,
   "metadata": {},
   "outputs": [],
   "source": [
    "train_split, test_split = train_test_split(train, train_size=0.75, random_state=770775)"
   ]
  },
  {
   "cell_type": "markdown",
   "metadata": {},
   "source": [
    "We create a pipeline where we use CountVectorizer, TfidfTransformer and SGDClassifier. We also run Gridsearch on the training set to autotune our hyperparameters.\n",
    "\n",
    "CountVectorizer: Creates tokens from the words in our \"Plots\".\n",
    "\n",
    "TfidfTransformer:\"Tf\" is short for term frequency. \"idf\" is short for inverse document frequency. TfidfTransformer assigns weights to tokens. It assigns more weight to more important and less frequently occuring tokens. This will possibly greatly increase our prediction scoring. \n",
    "\n",
    "SGDClassifier: SGD stands for stochastic gradient descent, this is our classification model. It is based on a linear SVM classifier, with SGD training. The gradient loss is updated with each new sample, with a decreasing learning rate for each new sample. A learning rate that decreases over time is optimal.\n",
    "\n",
    "Gridsearch creates combinations throughout our dataset, and finds the optimal hyperparameters after having considered each combination."
   ]
  },
  {
   "cell_type": "code",
   "execution_count": 11,
   "metadata": {},
   "outputs": [
    {
     "name": "stdout",
     "output_type": "stream",
     "text": [
      "Fitting 5 folds for each of 30 candidates, totalling 150 fits\n"
     ]
    },
    {
     "name": "stderr",
     "output_type": "stream",
     "text": [
      "[Parallel(n_jobs=-1)]: Using backend LokyBackend with 6 concurrent workers.\n",
      "[Parallel(n_jobs=-1)]: Done  38 tasks      | elapsed:   48.6s\n",
      "[Parallel(n_jobs=-1)]: Done 150 out of 150 | elapsed:  2.9min finished\n",
      "C:\\Users\\Balazs\\anaconda3\\lib\\site-packages\\sklearn\\feature_extraction\\text.py:383: UserWarning: Your stop_words may be inconsistent with your preprocessing. Tokenizing the stop words generated tokens ['al', 'daren', 'itse', 'mayn', 'mon', 'myse', 'oughtn'] not in stop_words.\n",
      "  warnings.warn('Your stop_words may be inconsistent with '\n"
     ]
    }
   ],
   "source": [
    "\n",
    "\n",
    "# pipeline \n",
    "text_clf = Pipeline([\n",
    "    ('vect', CountVectorizer(stop_words=stop_word_list, ngram_range=(1,1))),\n",
    "    ('tfidf', TfidfTransformer()),\n",
    "    ('clf', SGDClassifier(loss='hinge', penalty='l2', alpha=1e-3, random_state=770775, max_iter=5, tol=None))\n",
    "])\n",
    "\n",
    "# tune the hyperparameters\n",
    "parameters = {\n",
    "    'vect__ngram_range': [(1, 1), (1, 2), (2,2)], # unigrams (two word expressions) or bigrams (three word expressions)\n",
    "    'tfidf__use_idf': (True, False),\n",
    "    'clf__alpha': (1e-2, 5e-3, 1e-3, 5e-4, 1e-4),\n",
    "}\n",
    "gs_clf = GridSearchCV(text_clf, parameters, cv=5, n_jobs=-1, verbose = 1)\n",
    "gs_clf = gs_clf.fit(train_split.Plot, train_split.Genre)\n"
   ]
  },
  {
   "cell_type": "markdown",
   "metadata": {},
   "source": [
    "Next, we fit our model."
   ]
  },
  {
   "cell_type": "code",
   "execution_count": 12,
   "metadata": {},
   "outputs": [
    {
     "name": "stdout",
     "output_type": "stream",
     "text": [
      "clf__alpha: 0.0001\n",
      "tfidf__use_idf: True\n",
      "vect__ngram_range: (1, 2)\n",
      "0.6162260711030082\n"
     ]
    }
   ],
   "source": [
    "# predict\n",
    "gs_predict = gs_clf.predict(test_split.Plot)\n",
    "gs_accuracy = np.mean(gs_predict == test_split.Genre)\n",
    "\n",
    "# check best score\n",
    "#  best mean score\n",
    "gs_clf.best_score_\n",
    "# the parameters pertaining to a score\n",
    "for param_name in sorted(parameters.keys()):\n",
    "    print(\"%s: %r\" % (param_name, gs_clf.best_params_[param_name]))\n",
    "\n",
    "best_ngram_range = gs_clf.best_params_['vect__ngram_range']\n",
    "best_tfidf = gs_clf.best_params_['tfidf__use_idf']\n",
    "best_clf_alpha = gs_clf.best_params_['clf__alpha']\n",
    "\n",
    "# retrain the model based optimal parameter\n",
    "text_clf_opt = Pipeline([\n",
    "    ('vect', CountVectorizer(stop_words=stop_word_list, ngram_range=best_ngram_range)),\n",
    "    ('tfidf', TfidfTransformer(use_idf = best_tfidf)),\n",
    "    ('clf', SGDClassifier(loss='hinge', penalty='l2', alpha=best_clf_alpha, random_state=770775, max_iter=5, tol=None))\n",
    "])\n",
    "text_clf_opt.fit(train_split.Plot, train_split.Genre)\n",
    "predicted = text_clf_opt.predict(test_split.Plot)\n",
    "accuracy = np.mean(predicted == test_split.Genre)\n",
    "print(accuracy)\n",
    "\n",
    "tag_name = list(test_split.Genre.unique())\n",
    "performance = classification_report(y_true=test_split.Genre, y_pred=predicted)"
   ]
  },
  {
   "cell_type": "markdown",
   "metadata": {},
   "source": [
    "Our optimal hyperparameters are shown above: \n",
    "\n",
    "-clf__alpha: 0.0001\n",
    "                                             \n",
    "-tfidf__use_idf: False\n",
    "                                            \n",
    "-vect__ngram_range: (1, 2)\n",
    "\n",
    "The accuracy of our model on the training split was : 61.62%."
   ]
  },
  {
   "cell_type": "code",
   "execution_count": 13,
   "metadata": {
    "scrolled": true
   },
   "outputs": [
    {
     "data": {
      "text/plain": [
       "array(['thriller', 'romance', 'comedy', 'western', 'horror', 'drama',\n",
       "       'adventure', 'action', 'crime'], dtype=object)"
      ]
     },
     "execution_count": 13,
     "metadata": {},
     "output_type": "execute_result"
    }
   ],
   "source": [
    "train.Genre.unique()"
   ]
  },
  {
   "cell_type": "code",
   "execution_count": 14,
   "metadata": {},
   "outputs": [
    {
     "data": {
      "text/plain": [
       "Text(33.0, 0.5, 'actual')"
      ]
     },
     "execution_count": 14,
     "metadata": {},
     "output_type": "execute_result"
    },
    {
     "data": {
      "image/png": "[encoded data removed]",
      "text/plain": [
       "<Figure size 432x288 with 2 Axes>"
      ]
     },
     "metadata": {
      "needs_background": "light"
     },
     "output_type": "display_data"
    }
   ],
   "source": [
    "# check for similar genre labels\n",
    "\n",
    "labels = train_split.Genre.unique()\n",
    "test_label = test_split.Genre\n",
    "confusion = confusion_matrix(test_label, predicted)\n",
    "sns.heatmap(confusion, annot=True, fmt='g')\n",
    "plt.xticks(np.arange(9)+.5, labels=labels, rotation = 45)\n",
    "plt.yticks(np.arange(9)+.5, labels=labels, rotation = 45)\n",
    "plt.xlabel('predicted')\n",
    "plt.ylabel('actual')"
   ]
  },
  {
   "cell_type": "markdown",
   "metadata": {},
   "source": [
    "The above is a confusion matrix of our predicted movie genres plotted against the actual movie genres. This will be further discussed in our report."
   ]
  },
  {
   "cell_type": "code",
   "execution_count": 15,
   "metadata": {},
   "outputs": [],
   "source": [
    "testv2_predicted = text_clf_opt.predict(testv2.Plot)"
   ]
  },
  {
   "cell_type": "markdown",
   "metadata": {},
   "source": [
    "The above line is to fit our model on the test set."
   ]
  },
  {
   "cell_type": "code",
   "execution_count": 16,
   "metadata": {},
   "outputs": [],
   "source": [
    "testv2['Predicted'] = text_clf_opt.predict(testv2.Plot) \n",
    "testv2[['Id','Predicted']].to_csv('C:/Users/Balazs/Documents/Balazs_Lili_main.csv', index=False)"
   ]
  },
  {
   "cell_type": "code",
   "execution_count": null,
   "metadata": {},
   "outputs": [],
   "source": []
  }
 ],
 "metadata": {
  "kernelspec": {
   "display_name": "Python 3",
   "language": "python",
   "name": "python3"
  },
  "language_info": {
   "codemirror_mode": {
    "name": "ipython",
    "version": 3
   },
   "file_extension": ".py",
   "mimetype": "text/x-python",
   "name": "python",
   "nbconvert_exporter": "python",
   "pygments_lexer": "ipython3",
   "version": "3.8.5"
  }
 },
 "nbformat": 4,
 "nbformat_minor": 4
}
